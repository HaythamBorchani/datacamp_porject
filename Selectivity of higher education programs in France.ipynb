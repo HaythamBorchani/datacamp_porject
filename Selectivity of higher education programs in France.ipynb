{
 "cells": [
  {
   "cell_type": "code",
   "execution_count": 26,
   "id": "c1ba27c0-0584-40ac-be7d-e5079081f926",
   "metadata": {},
   "outputs": [],
   "source": [
    "import warnings\n",
    "# Pour éviter les avertissements lors de l'exécution\n",
    "warnings.filterwarnings(\"ignore\")"
   ]
  },
  {
   "cell_type": "code",
   "execution_count": 27,
   "id": "04ed1955-9a52-48c6-941c-b7539a33c01b",
   "metadata": {},
   "outputs": [],
   "source": [
    "import pandas as pd\n",
    "import numpy as np\n",
    "import missingno as msno\n",
    "import matplotlib.pyplot as plt\n",
    "import seaborn as sns"
   ]
  },
  {
   "cell_type": "markdown",
   "id": "d5800063-130e-4e46-b54c-5dee1acb0935",
   "metadata": {},
   "source": [
    "# Data Exploration\n",
    "## Load the Dataset"
   ]
  },
  {
   "cell_type": "code",
   "execution_count": 28,
   "id": "ce2216ec-2b96-44f5-bb03-f23e8d3cb146",
   "metadata": {},
   "outputs": [
    {
     "data": {
      "text/html": [
       "<div>\n",
       "<style scoped>\n",
       "    .dataframe tbody tr th:only-of-type {\n",
       "        vertical-align: middle;\n",
       "    }\n",
       "\n",
       "    .dataframe tbody tr th {\n",
       "        vertical-align: top;\n",
       "    }\n",
       "\n",
       "    .dataframe thead th {\n",
       "        text-align: right;\n",
       "    }\n",
       "</style>\n",
       "<table border=\"1\" class=\"dataframe\">\n",
       "  <thead>\n",
       "    <tr style=\"text-align: right;\">\n",
       "      <th></th>\n",
       "      <th>session</th>\n",
       "      <th>contrat_etab</th>\n",
       "      <th>cod_uai</th>\n",
       "      <th>g_ea_lib_vx</th>\n",
       "      <th>dep</th>\n",
       "      <th>dep_lib</th>\n",
       "      <th>region_etab_aff</th>\n",
       "      <th>acad_mies</th>\n",
       "      <th>ville_etab</th>\n",
       "      <th>lib_for_voe_ins</th>\n",
       "      <th>...</th>\n",
       "      <th>tri</th>\n",
       "      <th>cod_aff_form</th>\n",
       "      <th>detail_forma2</th>\n",
       "      <th>lien_form_psup</th>\n",
       "      <th>taux_acces_ens</th>\n",
       "      <th>part_acces_gen</th>\n",
       "      <th>part_acces_tec</th>\n",
       "      <th>part_acces_pro</th>\n",
       "      <th>etablissement_id_paysage</th>\n",
       "      <th>composante_id_paysage</th>\n",
       "    </tr>\n",
       "  </thead>\n",
       "  <tbody>\n",
       "    <tr>\n",
       "      <th>0</th>\n",
       "      <td>2023</td>\n",
       "      <td>Public</td>\n",
       "      <td>0212198A</td>\n",
       "      <td>L'institut Agro Dijon</td>\n",
       "      <td>21</td>\n",
       "      <td>Côte-d'Or</td>\n",
       "      <td>Bourgogne-Franche-Comté</td>\n",
       "      <td>Dijon</td>\n",
       "      <td>Dijon</td>\n",
       "      <td>Formation d'ingénieur Bac + 5 - Bac général</td>\n",
       "      <td>...</td>\n",
       "      <td>3_Autres formations</td>\n",
       "      <td>11</td>\n",
       "      <td>Concours Geipi Polytech</td>\n",
       "      <td>https://dossier.parcoursup.fr/Candidats/public...</td>\n",
       "      <td>71.0</td>\n",
       "      <td>100.0</td>\n",
       "      <td>0.0</td>\n",
       "      <td>0.0</td>\n",
       "      <td>MihlE</td>\n",
       "      <td>upGa1</td>\n",
       "    </tr>\n",
       "    <tr>\n",
       "      <th>1</th>\n",
       "      <td>2023</td>\n",
       "      <td>Public</td>\n",
       "      <td>0542259M</td>\n",
       "      <td>EEIGM Nancy - Groupe INP</td>\n",
       "      <td>54</td>\n",
       "      <td>Meurthe-et-Moselle</td>\n",
       "      <td>Grand Est</td>\n",
       "      <td>Nancy-Metz</td>\n",
       "      <td>Nancy</td>\n",
       "      <td>Formation d'ingénieur Bac + 5 - Bac général</td>\n",
       "      <td>...</td>\n",
       "      <td>3_Autres formations</td>\n",
       "      <td>21</td>\n",
       "      <td>Concours Geipi Polytech</td>\n",
       "      <td>https://dossier.parcoursup.fr/Candidats/public...</td>\n",
       "      <td>75.0</td>\n",
       "      <td>100.0</td>\n",
       "      <td>0.0</td>\n",
       "      <td>0.0</td>\n",
       "      <td>t6Cq5</td>\n",
       "      <td>9pRyR</td>\n",
       "    </tr>\n",
       "    <tr>\n",
       "      <th>2</th>\n",
       "      <td>2023</td>\n",
       "      <td>Public</td>\n",
       "      <td>0580766T</td>\n",
       "      <td>ISAT Nevers</td>\n",
       "      <td>58</td>\n",
       "      <td>Nièvre</td>\n",
       "      <td>Bourgogne-Franche-Comté</td>\n",
       "      <td>Dijon</td>\n",
       "      <td>Nevers</td>\n",
       "      <td>Formation d'ingénieur Bac + 5 - Bac général</td>\n",
       "      <td>...</td>\n",
       "      <td>3_Autres formations</td>\n",
       "      <td>23</td>\n",
       "      <td>Concours Geipi Polytech</td>\n",
       "      <td>https://dossier.parcoursup.fr/Candidats/public...</td>\n",
       "      <td>40.0</td>\n",
       "      <td>100.0</td>\n",
       "      <td>0.0</td>\n",
       "      <td>0.0</td>\n",
       "      <td>NaN</td>\n",
       "      <td>NaN</td>\n",
       "    </tr>\n",
       "    <tr>\n",
       "      <th>3</th>\n",
       "      <td>2023</td>\n",
       "      <td>Public</td>\n",
       "      <td>0595868H</td>\n",
       "      <td>IMT Nord Europe</td>\n",
       "      <td>59</td>\n",
       "      <td>Nord</td>\n",
       "      <td>Hauts-de-France</td>\n",
       "      <td>Lille</td>\n",
       "      <td>Villeneuve-d'Ascq</td>\n",
       "      <td>Formation d'ingénieur Bac + 5 - Bac général</td>\n",
       "      <td>...</td>\n",
       "      <td>3_Autres formations</td>\n",
       "      <td>24</td>\n",
       "      <td>Concours Geipi Polytech</td>\n",
       "      <td>https://dossier.parcoursup.fr/Candidats/public...</td>\n",
       "      <td>25.0</td>\n",
       "      <td>100.0</td>\n",
       "      <td>0.0</td>\n",
       "      <td>0.0</td>\n",
       "      <td>NaN</td>\n",
       "      <td>NaN</td>\n",
       "    </tr>\n",
       "    <tr>\n",
       "      <th>4</th>\n",
       "      <td>2023</td>\n",
       "      <td>Public</td>\n",
       "      <td>0596610P</td>\n",
       "      <td>Polytech Lille</td>\n",
       "      <td>59</td>\n",
       "      <td>Nord</td>\n",
       "      <td>Hauts-de-France</td>\n",
       "      <td>Lille</td>\n",
       "      <td>Villeneuve-d'Ascq</td>\n",
       "      <td>Formation d'ingénieur Bac + 5 - Bac général</td>\n",
       "      <td>...</td>\n",
       "      <td>3_Autres formations</td>\n",
       "      <td>26</td>\n",
       "      <td>Concours Geipi Polytech</td>\n",
       "      <td>https://dossier.parcoursup.fr/Candidats/public...</td>\n",
       "      <td>46.0</td>\n",
       "      <td>100.0</td>\n",
       "      <td>0.0</td>\n",
       "      <td>0.0</td>\n",
       "      <td>NaN</td>\n",
       "      <td>NaN</td>\n",
       "    </tr>\n",
       "  </tbody>\n",
       "</table>\n",
       "<p>5 rows × 118 columns</p>\n",
       "</div>"
      ],
      "text/plain": [
       "   session contrat_etab   cod_uai               g_ea_lib_vx dep  \\\n",
       "0     2023       Public  0212198A     L'institut Agro Dijon  21   \n",
       "1     2023       Public  0542259M  EEIGM Nancy - Groupe INP  54   \n",
       "2     2023       Public  0580766T               ISAT Nevers  58   \n",
       "3     2023       Public  0595868H           IMT Nord Europe  59   \n",
       "4     2023       Public  0596610P            Polytech Lille  59   \n",
       "\n",
       "              dep_lib          region_etab_aff   acad_mies         ville_etab  \\\n",
       "0           Côte-d'Or  Bourgogne-Franche-Comté       Dijon              Dijon   \n",
       "1  Meurthe-et-Moselle                Grand Est  Nancy-Metz              Nancy   \n",
       "2              Nièvre  Bourgogne-Franche-Comté       Dijon             Nevers   \n",
       "3                Nord          Hauts-de-France       Lille  Villeneuve-d'Ascq   \n",
       "4                Nord          Hauts-de-France       Lille  Villeneuve-d'Ascq   \n",
       "\n",
       "                               lib_for_voe_ins  ...                  tri  \\\n",
       "0  Formation d'ingénieur Bac + 5 - Bac général  ...  3_Autres formations   \n",
       "1  Formation d'ingénieur Bac + 5 - Bac général  ...  3_Autres formations   \n",
       "2  Formation d'ingénieur Bac + 5 - Bac général  ...  3_Autres formations   \n",
       "3  Formation d'ingénieur Bac + 5 - Bac général  ...  3_Autres formations   \n",
       "4  Formation d'ingénieur Bac + 5 - Bac général  ...  3_Autres formations   \n",
       "\n",
       "  cod_aff_form            detail_forma2  \\\n",
       "0           11  Concours Geipi Polytech   \n",
       "1           21  Concours Geipi Polytech   \n",
       "2           23  Concours Geipi Polytech   \n",
       "3           24  Concours Geipi Polytech   \n",
       "4           26  Concours Geipi Polytech   \n",
       "\n",
       "                                      lien_form_psup taux_acces_ens  \\\n",
       "0  https://dossier.parcoursup.fr/Candidats/public...           71.0   \n",
       "1  https://dossier.parcoursup.fr/Candidats/public...           75.0   \n",
       "2  https://dossier.parcoursup.fr/Candidats/public...           40.0   \n",
       "3  https://dossier.parcoursup.fr/Candidats/public...           25.0   \n",
       "4  https://dossier.parcoursup.fr/Candidats/public...           46.0   \n",
       "\n",
       "  part_acces_gen part_acces_tec  part_acces_pro  etablissement_id_paysage  \\\n",
       "0          100.0            0.0             0.0                     MihlE   \n",
       "1          100.0            0.0             0.0                     t6Cq5   \n",
       "2          100.0            0.0             0.0                       NaN   \n",
       "3          100.0            0.0             0.0                       NaN   \n",
       "4          100.0            0.0             0.0                       NaN   \n",
       "\n",
       "   composante_id_paysage  \n",
       "0                  upGa1  \n",
       "1                  9pRyR  \n",
       "2                    NaN  \n",
       "3                    NaN  \n",
       "4                    NaN  \n",
       "\n",
       "[5 rows x 118 columns]"
      ]
     },
     "execution_count": 28,
     "metadata": {},
     "output_type": "execute_result"
    }
   ],
   "source": [
    "df = pd.read_csv(\"./data/fr-esr-parcoursup.csv\", sep=';')\n",
    "df.head()"
   ]
  },
  {
   "cell_type": "code",
   "execution_count": 29,
   "id": "2721c9b8-5a2f-4599-940a-b24a26acef82",
   "metadata": {},
   "outputs": [
    {
     "name": "stdout",
     "output_type": "stream",
     "text": [
      "(13869, 118)\n"
     ]
    },
    {
     "data": {
      "text/plain": [
       "Index(['session', 'contrat_etab', 'cod_uai', 'g_ea_lib_vx', 'dep', 'dep_lib',\n",
       "       'region_etab_aff', 'acad_mies', 'ville_etab', 'lib_for_voe_ins',\n",
       "       ...\n",
       "       'tri', 'cod_aff_form', 'detail_forma2', 'lien_form_psup',\n",
       "       'taux_acces_ens', 'part_acces_gen', 'part_acces_tec', 'part_acces_pro',\n",
       "       'etablissement_id_paysage', 'composante_id_paysage'],\n",
       "      dtype='object', length=118)"
      ]
     },
     "execution_count": 29,
     "metadata": {},
     "output_type": "execute_result"
    }
   ],
   "source": [
    "print(df.shape)\n",
    "df.columns"
   ]
  },
  {
   "cell_type": "code",
   "execution_count": 30,
   "id": "69e8dcc6-701d-4e5a-9538-030ab7e68dcb",
   "metadata": {},
   "outputs": [
    {
     "data": {
      "text/plain": [
       "<Axes: >"
      ]
     },
     "execution_count": 30,
     "metadata": {},
     "output_type": "execute_result"
    },
    {
     "data": {
      "image/png": "[encoded data removed]",
      "text/plain": [
       "<Figure size 1800x720 with 2 Axes>"
      ]
     },
     "metadata": {
      "needs_background": "light"
     },
     "output_type": "display_data"
    }
   ],
   "source": [
    "# Missingness\n",
    "msno.matrix(df)"
   ]
  },
  {
   "cell_type": "code",
   "execution_count": 31,
   "id": "3bd5efb1-e93e-40b7-8f84-a6e173bdc95e",
   "metadata": {},
   "outputs": [
    {
     "data": {
      "text/html": [
       "<div>\n",
       "<style scoped>\n",
       "    .dataframe tbody tr th:only-of-type {\n",
       "        vertical-align: middle;\n",
       "    }\n",
       "\n",
       "    .dataframe tbody tr th {\n",
       "        vertical-align: top;\n",
       "    }\n",
       "\n",
       "    .dataframe thead th {\n",
       "        text-align: right;\n",
       "    }\n",
       "</style>\n",
       "<table border=\"1\" class=\"dataframe\">\n",
       "  <thead>\n",
       "    <tr style=\"text-align: right;\">\n",
       "      <th></th>\n",
       "      <th>session</th>\n",
       "      <th>capa_fin</th>\n",
       "      <th>voe_tot</th>\n",
       "      <th>voe_tot_f</th>\n",
       "      <th>nb_voe_pp</th>\n",
       "      <th>nb_voe_pp_internat</th>\n",
       "      <th>nb_voe_pp_bg</th>\n",
       "      <th>nb_voe_pp_bg_brs</th>\n",
       "      <th>nb_voe_pp_bt</th>\n",
       "      <th>nb_voe_pp_bt_brs</th>\n",
       "      <th>...</th>\n",
       "      <th>prop_tot_bp_brs</th>\n",
       "      <th>prop_tot_at</th>\n",
       "      <th>ran_grp1</th>\n",
       "      <th>ran_grp2</th>\n",
       "      <th>ran_grp3</th>\n",
       "      <th>cod_aff_form</th>\n",
       "      <th>taux_acces_ens</th>\n",
       "      <th>part_acces_gen</th>\n",
       "      <th>part_acces_tec</th>\n",
       "      <th>part_acces_pro</th>\n",
       "    </tr>\n",
       "  </thead>\n",
       "  <tbody>\n",
       "    <tr>\n",
       "      <th>count</th>\n",
       "      <td>13869.0</td>\n",
       "      <td>13869.000000</td>\n",
       "      <td>13869.000000</td>\n",
       "      <td>13869.000000</td>\n",
       "      <td>13869.000000</td>\n",
       "      <td>983.000000</td>\n",
       "      <td>13869.000000</td>\n",
       "      <td>13869.000000</td>\n",
       "      <td>13869.000000</td>\n",
       "      <td>13869.000000</td>\n",
       "      <td>...</td>\n",
       "      <td>13869.000000</td>\n",
       "      <td>13869.000000</td>\n",
       "      <td>13580.000000</td>\n",
       "      <td>6204.000000</td>\n",
       "      <td>3840.000000</td>\n",
       "      <td>13869.000000</td>\n",
       "      <td>13741.000000</td>\n",
       "      <td>13869.000000</td>\n",
       "      <td>13869.000000</td>\n",
       "      <td>13869.000000</td>\n",
       "    </tr>\n",
       "    <tr>\n",
       "      <th>mean</th>\n",
       "      <td>2023.0</td>\n",
       "      <td>55.607542</td>\n",
       "      <td>876.034105</td>\n",
       "      <td>488.592833</td>\n",
       "      <td>850.855649</td>\n",
       "      <td>566.116989</td>\n",
       "      <td>450.192732</td>\n",
       "      <td>70.717572</td>\n",
       "      <td>116.456846</td>\n",
       "      <td>36.477324</td>\n",
       "      <td>...</td>\n",
       "      <td>7.314514</td>\n",
       "      <td>59.782320</td>\n",
       "      <td>567.949853</td>\n",
       "      <td>75.709542</td>\n",
       "      <td>82.308333</td>\n",
       "      <td>16660.305285</td>\n",
       "      <td>60.712685</td>\n",
       "      <td>57.593698</td>\n",
       "      <td>24.528445</td>\n",
       "      <td>16.949888</td>\n",
       "    </tr>\n",
       "    <tr>\n",
       "      <th>std</th>\n",
       "      <td>0.0</td>\n",
       "      <td>103.047216</td>\n",
       "      <td>1342.470112</td>\n",
       "      <td>878.974400</td>\n",
       "      <td>1343.467441</td>\n",
       "      <td>763.553736</td>\n",
       "      <td>969.733333</td>\n",
       "      <td>145.483652</td>\n",
       "      <td>206.635912</td>\n",
       "      <td>72.660943</td>\n",
       "      <td>...</td>\n",
       "      <td>12.244458</td>\n",
       "      <td>117.344549</td>\n",
       "      <td>1356.010367</td>\n",
       "      <td>100.698768</td>\n",
       "      <td>81.107014</td>\n",
       "      <td>11513.436731</td>\n",
       "      <td>28.493103</td>\n",
       "      <td>34.197917</td>\n",
       "      <td>21.102614</td>\n",
       "      <td>21.654737</td>\n",
       "    </tr>\n",
       "    <tr>\n",
       "      <th>min</th>\n",
       "      <td>2023.0</td>\n",
       "      <td>0.000000</td>\n",
       "      <td>0.000000</td>\n",
       "      <td>0.000000</td>\n",
       "      <td>0.000000</td>\n",
       "      <td>0.000000</td>\n",
       "      <td>0.000000</td>\n",
       "      <td>0.000000</td>\n",
       "      <td>0.000000</td>\n",
       "      <td>0.000000</td>\n",
       "      <td>...</td>\n",
       "      <td>0.000000</td>\n",
       "      <td>0.000000</td>\n",
       "      <td>1.000000</td>\n",
       "      <td>1.000000</td>\n",
       "      <td>1.000000</td>\n",
       "      <td>3.000000</td>\n",
       "      <td>1.000000</td>\n",
       "      <td>0.000000</td>\n",
       "      <td>0.000000</td>\n",
       "      <td>0.000000</td>\n",
       "    </tr>\n",
       "    <tr>\n",
       "      <th>25%</th>\n",
       "      <td>2023.0</td>\n",
       "      <td>20.000000</td>\n",
       "      <td>187.000000</td>\n",
       "      <td>68.000000</td>\n",
       "      <td>168.000000</td>\n",
       "      <td>63.000000</td>\n",
       "      <td>29.000000</td>\n",
       "      <td>5.000000</td>\n",
       "      <td>14.000000</td>\n",
       "      <td>3.000000</td>\n",
       "      <td>...</td>\n",
       "      <td>0.000000</td>\n",
       "      <td>9.000000</td>\n",
       "      <td>39.000000</td>\n",
       "      <td>23.000000</td>\n",
       "      <td>30.000000</td>\n",
       "      <td>6761.000000</td>\n",
       "      <td>37.000000</td>\n",
       "      <td>25.000000</td>\n",
       "      <td>5.000000</td>\n",
       "      <td>0.000000</td>\n",
       "    </tr>\n",
       "    <tr>\n",
       "      <th>50%</th>\n",
       "      <td>2023.0</td>\n",
       "      <td>32.000000</td>\n",
       "      <td>421.000000</td>\n",
       "      <td>199.000000</td>\n",
       "      <td>392.000000</td>\n",
       "      <td>318.000000</td>\n",
       "      <td>110.000000</td>\n",
       "      <td>21.000000</td>\n",
       "      <td>47.000000</td>\n",
       "      <td>12.000000</td>\n",
       "      <td>...</td>\n",
       "      <td>3.000000</td>\n",
       "      <td>21.000000</td>\n",
       "      <td>118.000000</td>\n",
       "      <td>46.000000</td>\n",
       "      <td>59.000000</td>\n",
       "      <td>11811.000000</td>\n",
       "      <td>61.000000</td>\n",
       "      <td>60.000000</td>\n",
       "      <td>22.000000</td>\n",
       "      <td>6.000000</td>\n",
       "    </tr>\n",
       "    <tr>\n",
       "      <th>75%</th>\n",
       "      <td>2023.0</td>\n",
       "      <td>50.000000</td>\n",
       "      <td>945.000000</td>\n",
       "      <td>498.000000</td>\n",
       "      <td>906.000000</td>\n",
       "      <td>755.000000</td>\n",
       "      <td>442.000000</td>\n",
       "      <td>73.000000</td>\n",
       "      <td>124.000000</td>\n",
       "      <td>36.000000</td>\n",
       "      <td>...</td>\n",
       "      <td>10.000000</td>\n",
       "      <td>52.000000</td>\n",
       "      <td>441.000000</td>\n",
       "      <td>86.000000</td>\n",
       "      <td>107.000000</td>\n",
       "      <td>26185.000000</td>\n",
       "      <td>88.000000</td>\n",
       "      <td>91.000000</td>\n",
       "      <td>40.000000</td>\n",
       "      <td>30.000000</td>\n",
       "    </tr>\n",
       "    <tr>\n",
       "      <th>max</th>\n",
       "      <td>2023.0</td>\n",
       "      <td>3400.000000</td>\n",
       "      <td>17747.000000</td>\n",
       "      <td>10402.000000</td>\n",
       "      <td>17747.000000</td>\n",
       "      <td>5821.000000</td>\n",
       "      <td>16187.000000</td>\n",
       "      <td>2315.000000</td>\n",
       "      <td>3218.000000</td>\n",
       "      <td>1448.000000</td>\n",
       "      <td>...</td>\n",
       "      <td>163.000000</td>\n",
       "      <td>1989.000000</td>\n",
       "      <td>16854.000000</td>\n",
       "      <td>1644.000000</td>\n",
       "      <td>928.000000</td>\n",
       "      <td>42727.000000</td>\n",
       "      <td>100.000000</td>\n",
       "      <td>100.000000</td>\n",
       "      <td>100.000000</td>\n",
       "      <td>100.000000</td>\n",
       "    </tr>\n",
       "  </tbody>\n",
       "</table>\n",
       "<p>8 rows × 93 columns</p>\n",
       "</div>"
      ],
      "text/plain": [
       "       session      capa_fin       voe_tot     voe_tot_f     nb_voe_pp  \\\n",
       "count  13869.0  13869.000000  13869.000000  13869.000000  13869.000000   \n",
       "mean    2023.0     55.607542    876.034105    488.592833    850.855649   \n",
       "std        0.0    103.047216   1342.470112    878.974400   1343.467441   \n",
       "min     2023.0      0.000000      0.000000      0.000000      0.000000   \n",
       "25%     2023.0     20.000000    187.000000     68.000000    168.000000   \n",
       "50%     2023.0     32.000000    421.000000    199.000000    392.000000   \n",
       "75%     2023.0     50.000000    945.000000    498.000000    906.000000   \n",
       "max     2023.0   3400.000000  17747.000000  10402.000000  17747.000000   \n",
       "\n",
       "       nb_voe_pp_internat  nb_voe_pp_bg  nb_voe_pp_bg_brs  nb_voe_pp_bt  \\\n",
       "count          983.000000  13869.000000      13869.000000  13869.000000   \n",
       "mean           566.116989    450.192732         70.717572    116.456846   \n",
       "std            763.553736    969.733333        145.483652    206.635912   \n",
       "min              0.000000      0.000000          0.000000      0.000000   \n",
       "25%             63.000000     29.000000          5.000000     14.000000   \n",
       "50%            318.000000    110.000000         21.000000     47.000000   \n",
       "75%            755.000000    442.000000         73.000000    124.000000   \n",
       "max           5821.000000  16187.000000       2315.000000   3218.000000   \n",
       "\n",
       "       nb_voe_pp_bt_brs  ...  prop_tot_bp_brs   prop_tot_at      ran_grp1  \\\n",
       "count      13869.000000  ...     13869.000000  13869.000000  13580.000000   \n",
       "mean          36.477324  ...         7.314514     59.782320    567.949853   \n",
       "std           72.660943  ...        12.244458    117.344549   1356.010367   \n",
       "min            0.000000  ...         0.000000      0.000000      1.000000   \n",
       "25%            3.000000  ...         0.000000      9.000000     39.000000   \n",
       "50%           12.000000  ...         3.000000     21.000000    118.000000   \n",
       "75%           36.000000  ...        10.000000     52.000000    441.000000   \n",
       "max         1448.000000  ...       163.000000   1989.000000  16854.000000   \n",
       "\n",
       "          ran_grp2     ran_grp3  cod_aff_form  taux_acces_ens  part_acces_gen  \\\n",
       "count  6204.000000  3840.000000  13869.000000    13741.000000    13869.000000   \n",
       "mean     75.709542    82.308333  16660.305285       60.712685       57.593698   \n",
       "std     100.698768    81.107014  11513.436731       28.493103       34.197917   \n",
       "min       1.000000     1.000000      3.000000        1.000000        0.000000   \n",
       "25%      23.000000    30.000000   6761.000000       37.000000       25.000000   \n",
       "50%      46.000000    59.000000  11811.000000       61.000000       60.000000   \n",
       "75%      86.000000   107.000000  26185.000000       88.000000       91.000000   \n",
       "max    1644.000000   928.000000  42727.000000      100.000000      100.000000   \n",
       "\n",
       "       part_acces_tec  part_acces_pro  \n",
       "count    13869.000000    13869.000000  \n",
       "mean        24.528445       16.949888  \n",
       "std         21.102614       21.654737  \n",
       "min          0.000000        0.000000  \n",
       "25%          5.000000        0.000000  \n",
       "50%         22.000000        6.000000  \n",
       "75%         40.000000       30.000000  \n",
       "max        100.000000      100.000000  \n",
       "\n",
       "[8 rows x 93 columns]"
      ]
     },
     "execution_count": 31,
     "metadata": {},
     "output_type": "execute_result"
    }
   ],
   "source": [
    "df.describe()"
   ]
  },
  {
   "cell_type": "code",
   "execution_count": 32,
   "id": "f30c3a5a-625a-4ab9-9d43-66240b6c9c4d",
   "metadata": {},
   "outputs": [],
   "source": [
    "# For numerical features\n",
    "numerical_features = df.select_dtypes(include=['int64', 'float64']).columns.tolist()\n",
    "\n",
    "# For categorical features\n",
    "categorical_features = df.select_dtypes(include=['object', 'category']).columns.tolist()"
   ]
  },
  {
   "cell_type": "markdown",
   "id": "412040c2-33b0-4cbc-986a-d525ed7afb2a",
   "metadata": {},
   "source": [
    "## Categorical features"
   ]
  },
  {
   "cell_type": "code",
   "execution_count": 33,
   "id": "39acb521-a2b8-4be7-b45b-b8ef148a9fba",
   "metadata": {},
   "outputs": [
    {
     "data": {
      "text/plain": [
       "list_com                              2\n",
       "select_form                           2\n",
       "tri                                   3\n",
       "contrat_etab                          4\n",
       "lib_grp3                              4\n",
       "lib_grp2                              6\n",
       "lib_grp1                              6\n",
       "fili                                 11\n",
       "region_etab_aff                      21\n",
       "acad_mies                            32\n",
       "form_lib_voe_acc                     52\n",
       "composante_id_paysage                98\n",
       "dep_lib                             104\n",
       "dep                                 104\n",
       "detail_forma2                       109\n",
       "fil_lib_voe_acc                     458\n",
       "etablissement_id_paysage            485\n",
       "ville_etab                         1272\n",
       "detail_forma                       2766\n",
       "lib_for_voe_ins                    3207\n",
       "g_ea_lib_vx                        3602\n",
       "cod_uai                            3965\n",
       "g_olocalisation_des_formations     5789\n",
       "lib_comp_voe_ins                  11716\n",
       "lien_form_psup                    13780\n",
       "dtype: int64"
      ]
     },
     "execution_count": 33,
     "metadata": {},
     "output_type": "execute_result"
    }
   ],
   "source": [
    "df[categorical_features].nunique().sort_values()"
   ]
  },
  {
   "cell_type": "markdown",
   "id": "e16ad7a4-3b88-4526-94f9-73380ac501a8",
   "metadata": {},
   "source": [
    "## Labels\n",
    "The target variable is in the column select_form since we classify selectivity of higher education programs."
   ]
  },
  {
   "cell_type": "code",
   "execution_count": 34,
   "id": "7c5e7c92-8c67-4255-885e-460a39fd8d87",
   "metadata": {},
   "outputs": [
    {
     "data": {
      "text/plain": [
       "((2,), array(['formation sélective', 'formation non sélective'], dtype=object))"
      ]
     },
     "execution_count": 34,
     "metadata": {},
     "output_type": "execute_result"
    }
   ],
   "source": [
    "df.select_form.unique().shape, df.select_form.unique()"
   ]
  },
  {
   "cell_type": "code",
   "execution_count": 35,
   "id": "e0838617-e81d-4f0c-804b-35dba7266fbe",
   "metadata": {},
   "outputs": [
    {
     "data": {
      "image/png": "[encoded data removed]",
      "text/plain": [
       "<Figure size 432x360 with 1 Axes>"
      ]
     },
     "metadata": {
      "needs_background": "light"
     },
     "output_type": "display_data"
    }
   ],
   "source": [
    "fig, ax = plt.subplots(1, 1, figsize=(6, 5))\n",
    "sns.countplot(x='select_form', data=df, ax=ax)\n",
    "plt.show()"
   ]
  },
  {
   "cell_type": "markdown",
   "id": "1e9785fd-8fbc-4707-a75c-c887b48dcd49",
   "metadata": {},
   "source": [
    "Data isn't balanced"
   ]
  },
  {
   "cell_type": "code",
   "execution_count": 36,
   "id": "30a9ed44-5371-46e4-9345-c20333c746f8",
   "metadata": {},
   "outputs": [
    {
     "data": {
      "text/html": [
       "<div>\n",
       "<style scoped>\n",
       "    .dataframe tbody tr th:only-of-type {\n",
       "        vertical-align: middle;\n",
       "    }\n",
       "\n",
       "    .dataframe tbody tr th {\n",
       "        vertical-align: top;\n",
       "    }\n",
       "\n",
       "    .dataframe thead th {\n",
       "        text-align: right;\n",
       "    }\n",
       "</style>\n",
       "<table border=\"1\" class=\"dataframe\">\n",
       "  <thead>\n",
       "    <tr style=\"text-align: right;\">\n",
       "      <th></th>\n",
       "      <th>select_form</th>\n",
       "      <th>fili</th>\n",
       "      <th>counts</th>\n",
       "    </tr>\n",
       "  </thead>\n",
       "  <tbody>\n",
       "    <tr>\n",
       "      <th>0</th>\n",
       "      <td>formation non sélective</td>\n",
       "      <td>Licence</td>\n",
       "      <td>2291</td>\n",
       "    </tr>\n",
       "    <tr>\n",
       "      <th>1</th>\n",
       "      <td>formation non sélective</td>\n",
       "      <td>Licence_Las</td>\n",
       "      <td>535</td>\n",
       "    </tr>\n",
       "    <tr>\n",
       "      <th>2</th>\n",
       "      <td>formation non sélective</td>\n",
       "      <td>PASS</td>\n",
       "      <td>278</td>\n",
       "    </tr>\n",
       "    <tr>\n",
       "      <th>3</th>\n",
       "      <td>formation sélective</td>\n",
       "      <td>Autre formation</td>\n",
       "      <td>1749</td>\n",
       "    </tr>\n",
       "    <tr>\n",
       "      <th>4</th>\n",
       "      <td>formation sélective</td>\n",
       "      <td>BTS</td>\n",
       "      <td>5339</td>\n",
       "    </tr>\n",
       "    <tr>\n",
       "      <th>5</th>\n",
       "      <td>formation sélective</td>\n",
       "      <td>BUT</td>\n",
       "      <td>816</td>\n",
       "    </tr>\n",
       "    <tr>\n",
       "      <th>6</th>\n",
       "      <td>formation sélective</td>\n",
       "      <td>CPGE</td>\n",
       "      <td>983</td>\n",
       "    </tr>\n",
       "    <tr>\n",
       "      <th>7</th>\n",
       "      <td>formation sélective</td>\n",
       "      <td>EFTS</td>\n",
       "      <td>231</td>\n",
       "    </tr>\n",
       "    <tr>\n",
       "      <th>8</th>\n",
       "      <td>formation sélective</td>\n",
       "      <td>Ecole d'Ingénieur</td>\n",
       "      <td>472</td>\n",
       "    </tr>\n",
       "    <tr>\n",
       "      <th>9</th>\n",
       "      <td>formation sélective</td>\n",
       "      <td>Ecole de Commerce</td>\n",
       "      <td>208</td>\n",
       "    </tr>\n",
       "    <tr>\n",
       "      <th>10</th>\n",
       "      <td>formation sélective</td>\n",
       "      <td>IFSI</td>\n",
       "      <td>340</td>\n",
       "    </tr>\n",
       "    <tr>\n",
       "      <th>11</th>\n",
       "      <td>formation sélective</td>\n",
       "      <td>Licence</td>\n",
       "      <td>612</td>\n",
       "    </tr>\n",
       "    <tr>\n",
       "      <th>12</th>\n",
       "      <td>formation sélective</td>\n",
       "      <td>Licence_Las</td>\n",
       "      <td>15</td>\n",
       "    </tr>\n",
       "  </tbody>\n",
       "</table>\n",
       "</div>"
      ],
      "text/plain": [
       "                select_form               fili  counts\n",
       "0   formation non sélective            Licence    2291\n",
       "1   formation non sélective        Licence_Las     535\n",
       "2   formation non sélective               PASS     278\n",
       "3       formation sélective    Autre formation    1749\n",
       "4       formation sélective                BTS    5339\n",
       "5       formation sélective                BUT     816\n",
       "6       formation sélective               CPGE     983\n",
       "7       formation sélective               EFTS     231\n",
       "8       formation sélective  Ecole d'Ingénieur     472\n",
       "9       formation sélective  Ecole de Commerce     208\n",
       "10      formation sélective               IFSI     340\n",
       "11      formation sélective            Licence     612\n",
       "12      formation sélective        Licence_Las      15"
      ]
     },
     "execution_count": 36,
     "metadata": {},
     "output_type": "execute_result"
    }
   ],
   "source": [
    "# Distribution of groups in each class\n",
    "group_class_counts = df.groupby(['select_form', 'fili']).size().reset_index(name='counts')\n",
    "group_class_counts"
   ]
  },
  {
   "cell_type": "code",
   "execution_count": 37,
   "id": "be3ce728-6487-49de-820e-781487380fa9",
   "metadata": {},
   "outputs": [
    {
     "data": {
      "image/png": "[encoded data removed]",
      "text/plain": [
       "<Figure size 1440x720 with 1 Axes>"
      ]
     },
     "metadata": {
      "needs_background": "light"
     },
     "output_type": "display_data"
    }
   ],
   "source": [
    "plt.figure(figsize=(20, 10))\n",
    "sns.barplot(x='fili', y='counts', hue='select_form', data=group_class_counts, palette='viridis')\n",
    "plt.title('Distribution of Selective vs Non-Selective Formations by Establishment')\n",
    "plt.xticks(rotation=90) \n",
    "plt.xlabel('Formation suivi')\n",
    "plt.ylabel('Count')\n",
    "plt.legend(title='Selectivity')\n",
    "plt.tight_layout() \n",
    "plt.show()"
   ]
  },
  {
   "cell_type": "markdown",
   "id": "a512edcf-db2f-44fb-8a00-05052f21b6f7",
   "metadata": {},
   "source": [
    "Data is severely unbalance we have to create new system labeling in order to perform classification tasks"
   ]
  },
  {
   "cell_type": "code",
   "execution_count": 38,
   "id": "a6992924-e628-40ec-8b6a-2af002daf5fb",
   "metadata": {},
   "outputs": [
    {
     "data": {
      "text/plain": [
       "['session',\n",
       " 'capa_fin',\n",
       " 'voe_tot',\n",
       " 'voe_tot_f',\n",
       " 'nb_voe_pp',\n",
       " 'nb_voe_pp_internat',\n",
       " 'nb_voe_pp_bg',\n",
       " 'nb_voe_pp_bg_brs',\n",
       " 'nb_voe_pp_bt',\n",
       " 'nb_voe_pp_bt_brs',\n",
       " 'nb_voe_pp_bp',\n",
       " 'nb_voe_pp_bp_brs',\n",
       " 'nb_voe_pp_at',\n",
       " 'nb_voe_pc',\n",
       " 'nb_voe_pc_bg',\n",
       " 'nb_voe_pc_bt',\n",
       " 'nb_voe_pc_bp',\n",
       " 'nb_voe_pc_at',\n",
       " 'nb_cla_pp',\n",
       " 'nb_cla_pc',\n",
       " 'nb_cla_pp_internat',\n",
       " 'nb_cla_pp_pasinternat',\n",
       " 'nb_cla_pp_bg',\n",
       " 'nb_cla_pp_bg_brs',\n",
       " 'nb_cla_pp_bt',\n",
       " 'nb_cla_pp_bt_brs',\n",
       " 'nb_cla_pp_bp',\n",
       " 'nb_cla_pp_bp_brs',\n",
       " 'nb_cla_pp_at',\n",
       " 'prop_tot',\n",
       " 'acc_tot',\n",
       " 'acc_tot_f',\n",
       " 'acc_pp',\n",
       " 'acc_pc',\n",
       " 'acc_debutpp',\n",
       " 'acc_datebac',\n",
       " 'acc_finpp',\n",
       " 'acc_internat',\n",
       " 'acc_brs',\n",
       " 'acc_neobac',\n",
       " 'acc_bg',\n",
       " 'acc_bt',\n",
       " 'acc_bp',\n",
       " 'acc_at',\n",
       " 'acc_mention_nonrenseignee',\n",
       " 'acc_sansmention',\n",
       " 'acc_ab',\n",
       " 'acc_b',\n",
       " 'acc_tb',\n",
       " 'acc_tbf',\n",
       " 'acc_bg_mention',\n",
       " 'acc_bt_mention',\n",
       " 'acc_bp_mention',\n",
       " 'acc_term',\n",
       " 'acc_term_f',\n",
       " 'acc_aca_orig',\n",
       " 'acc_aca_orig_idf',\n",
       " 'pct_acc_debutpp',\n",
       " 'pct_acc_datebac',\n",
       " 'pct_acc_finpp',\n",
       " 'pct_f',\n",
       " 'pct_aca_orig',\n",
       " 'pct_aca_orig_idf',\n",
       " 'pct_etab_orig',\n",
       " 'pct_bours',\n",
       " 'pct_neobac',\n",
       " 'pct_mention_nonrenseignee',\n",
       " 'pct_sansmention',\n",
       " 'pct_ab',\n",
       " 'pct_b',\n",
       " 'pct_tb',\n",
       " 'pct_tbf',\n",
       " 'pct_bg',\n",
       " 'pct_bg_mention',\n",
       " 'pct_bt',\n",
       " 'pct_bt_mention',\n",
       " 'pct_bp',\n",
       " 'pct_bp_mention',\n",
       " 'prop_tot_bg',\n",
       " 'prop_tot_bg_brs',\n",
       " 'prop_tot_bt',\n",
       " 'prop_tot_bt_brs',\n",
       " 'prop_tot_bp',\n",
       " 'prop_tot_bp_brs',\n",
       " 'prop_tot_at',\n",
       " 'ran_grp1',\n",
       " 'ran_grp2',\n",
       " 'ran_grp3',\n",
       " 'cod_aff_form',\n",
       " 'taux_acces_ens',\n",
       " 'part_acces_gen',\n",
       " 'part_acces_tec',\n",
       " 'part_acces_pro']"
      ]
     },
     "execution_count": 38,
     "metadata": {},
     "output_type": "execute_result"
    }
   ],
   "source": [
    "numerical_features"
   ]
  },
  {
   "cell_type": "code",
   "execution_count": 39,
   "id": "3c08e30e-f662-4dcd-bacb-5ae0ccb70a1a",
   "metadata": {},
   "outputs": [],
   "source": [
    "def categorize_by_access_rate(row, low_threshold, high_threshold):\n",
    "    if row['taux_acces_ens'] > high_threshold:\n",
    "        return 'non selective'\n",
    "    elif low_threshold < row['taux_acces_ens'] <= high_threshold:\n",
    "        return 'peu selective'\n",
    "    else:\n",
    "        return 'très selective'"
   ]
  },
  {
   "cell_type": "code",
   "execution_count": 69,
   "id": "262d5217-1add-4c74-8d49-f6da03b972a1",
   "metadata": {},
   "outputs": [],
   "source": [
    "# Example thresholds\n",
    "low_threshold = 35 # Adjust based on analysis\n",
    "high_threshold = 80  # Adjust based on analysis\n",
    "df = df.dropna(subset=['taux_acces_ens'])\n",
    "# Assuming df has a 'Taux d’accès' column\n",
    "df['selectivity_category'] = df.apply(lambda row: categorize_by_access_rate(row, low_threshold, high_threshold), axis=1)"
   ]
  },
  {
   "cell_type": "code",
   "execution_count": 41,
   "id": "11268538-dd7d-401c-95bd-f021a91117d9",
   "metadata": {},
   "outputs": [
    {
     "data": {
      "text/plain": [
       "((3,),\n",
       " array(['non selective', 'peu selective', 'très selective'], dtype=object))"
      ]
     },
     "execution_count": 41,
     "metadata": {},
     "output_type": "execute_result"
    }
   ],
   "source": [
    "df.selectivity_category.unique().shape, df.selectivity_category.unique()"
   ]
  },
  {
   "cell_type": "code",
   "execution_count": 42,
   "id": "352ce921-d176-4a9b-9f32-a07574a608af",
   "metadata": {},
   "outputs": [
    {
     "data": {
      "text/plain": [
       "<Axes: >"
      ]
     },
     "execution_count": 42,
     "metadata": {},
     "output_type": "execute_result"
    },
    {
     "data": {
      "image/png": "[encoded data removed]",
      "text/plain": [
       "<Figure size 432x288 with 1 Axes>"
      ]
     },
     "metadata": {
      "needs_background": "light"
     },
     "output_type": "display_data"
    }
   ],
   "source": [
    "df['taux_acces_ens'].hist()"
   ]
  },
  {
   "cell_type": "code",
   "execution_count": 68,
   "id": "b2cf7976-f386-42c0-976b-70888be1b1c3",
   "metadata": {},
   "outputs": [
    {
     "data": {
      "text/plain": [
       "<Axes: >"
      ]
     },
     "execution_count": 68,
     "metadata": {},
     "output_type": "execute_result"
    },
    {
     "data": {
      "image/png": "[encoded data removed]",
      "text/plain": [
       "<Figure size 432x288 with 1 Axes>"
      ]
     },
     "metadata": {
      "needs_background": "light"
     },
     "output_type": "display_data"
    }
   ],
   "source": [
    "df['selectivity_category'].hist()"
   ]
  },
  {
   "cell_type": "code",
   "execution_count": 44,
   "id": "6bb79b3d-14d8-41ea-9296-8ddf2d611f0f",
   "metadata": {},
   "outputs": [],
   "source": [
    "# This will add a new column for debugging purposes\n",
    "df['category_debug'] = df['taux_acces_ens'].apply(lambda x: 'non selective' if x > high_threshold\n",
    "                                                  else ('peu selective' if low_threshold < x <= high_threshold\n",
    "                                                        else 'très selective' if pd.notnull(x) else 'missing'))\n",
    "\n",
    "# Check the value counts for the debug column to understand the distribution\n",
    "category_counts = df['category_debug'].value_counts()"
   ]
  },
  {
   "cell_type": "code",
   "execution_count": 45,
   "id": "3b937b68-2f90-4419-a0eb-c011e35843f2",
   "metadata": {},
   "outputs": [
    {
     "data": {
      "text/plain": [
       "category_debug\n",
       "non selective     5681\n",
       "peu selective     5547\n",
       "très selective    2513\n",
       "Name: count, dtype: int64"
      ]
     },
     "execution_count": 45,
     "metadata": {},
     "output_type": "execute_result"
    }
   ],
   "source": [
    "category_counts"
   ]
  },
  {
   "cell_type": "code",
   "execution_count": null,
   "id": "9578332d-bf47-4863-9856-8b0c4f11aed2",
   "metadata": {},
   "outputs": [],
   "source": []
  }
 ],
 "metadata": {
  "kernelspec": {
   "display_name": "Python 3",
   "language": "python",
   "name": "python3"
  },
  "language_info": {
   "codemirror_mode": {
    "name": "ipython",
    "version": 3
   },
   "file_extension": ".py",
   "mimetype": "text/x-python",
   "name": "python",
   "nbconvert_exporter": "python",
   "pygments_lexer": "ipython3",
   "version": "3.9.18"
  }
 },
 "nbformat": 4,
 "nbformat_minor": 5
}
